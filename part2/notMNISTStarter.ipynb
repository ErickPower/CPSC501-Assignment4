{
  "nbformat": 4,
  "nbformat_minor": 0,
  "metadata": {
    "colab": {
      "name": "notMNISTStarter.ipynb",
      "provenance": [],
      "collapsed_sections": [],
      "include_colab_link": true
    },
    "kernelspec": {
      "name": "python3",
      "display_name": "Python 3"
    }
  },
  "cells": [
    {
      "cell_type": "markdown",
      "metadata": {
        "id": "view-in-github",
        "colab_type": "text"
      },
      "source": [
        "<a href=\"https://colab.research.google.com/github/ErickPower/CPSC501-Assignment4/blob/master/part2/notMNISTStarter.ipynb\" target=\"_parent\"><img src=\"https://colab.research.google.com/assets/colab-badge.svg\" alt=\"Open In Colab\"/></a>"
      ]
    },
    {
      "cell_type": "code",
      "metadata": {
        "id": "EWyi3raC7pnn",
        "colab_type": "code",
        "colab": {}
      },
      "source": [
        "!git init\n",
        "!git remote add origin https://github.com/ErickPower/CPSC501-Assignment4.git\n",
        "!git pull origin master"
      ],
      "execution_count": 0,
      "outputs": []
    },
    {
      "cell_type": "code",
      "metadata": {
        "id": "Z1o4PRH6KJuJ",
        "colab_type": "code",
        "colab": {
          "base_uri": "https://localhost:8080/",
          "height": 34
        },
        "outputId": "e0159645-5ae4-4341-8cdd-d74ea9d53101"
      },
      "source": [
        "try:\n",
        "  # %tensorflow_version only exists in Colab.\n",
        "  %tensorflow_version 2.x\n",
        "except Exception:\n",
        "  pass"
      ],
      "execution_count": 1,
      "outputs": [
        {
          "output_type": "stream",
          "text": [
            "TensorFlow 2.x selected.\n"
          ],
          "name": "stdout"
        }
      ]
    },
    {
      "cell_type": "markdown",
      "metadata": {
        "id": "w4ughi_1E4dp",
        "colab_type": "text"
      },
      "source": [
        "Upload notMNIST.npz"
      ]
    },
    {
      "cell_type": "code",
      "metadata": {
        "id": "S4eVDT0IKKbh",
        "colab_type": "code",
        "colab": {}
      },
      "source": [
        "#from google.colab import files\n",
        "#uploaded = files.upload()"
      ],
      "execution_count": 0,
      "outputs": []
    },
    {
      "cell_type": "code",
      "metadata": {
        "id": "UmlX83--KT6M",
        "colab_type": "code",
        "colab": {
          "base_uri": "https://localhost:8080/",
          "height": 697
        },
        "outputId": "8e26d18a-9c31-428b-c69d-a6e87a17aa35"
      },
      "source": [
        "import tensorflow as tf\n",
        "import numpy as np\n",
        "\n",
        "print(\"--Get data--\")\n",
        "with np.load(\"notMNIST.npz\", allow_pickle=True) as f:\n",
        "    x_train, y_train = f['x_train'], f['y_train']\n",
        "    x_test, y_test = f['x_test'], f['y_test']\n",
        "\n",
        "print(\"--Process data--\")\n",
        "print(len(y_train))\n",
        "x_train, x_test = x_train / 255.0, x_test / 255.0\n",
        " \n",
        "print(\"--Make model--\")\n",
        "model = tf.keras.models.Sequential([\n",
        "  tf.keras.layers.Flatten(input_shape=(28, 28)),\n",
        "  tf.keras.layers.Dense(500, activation='relu'),\n",
        "  tf.keras.layers.Dense(300, activation='relu'),\n",
        "  tf.keras.layers.Dense(10, activation='softmax')\n",
        "])\n",
        "\n",
        "optim = tf.keras.optimizers.SGD(learning_rate=0.01, momentum=0.9)\n",
        "\n",
        "model.compile(optimizer=optim, loss='sparse_categorical_crossentropy', metrics=['accuracy'])\n",
        "\n",
        "print(\"--Fit model--\")\n",
        "model.fit(x_train, y_train, epochs=15, verbose=2)\n",
        "\n",
        "print(\"--Evaluate model--\")\n",
        "model_loss, model_acc = model.evaluate(x_test,  y_test, verbose=2)\n",
        "print(f\"Model Loss:    {model_loss:.2f}\")\n",
        "print(f\"Model Accuray: {model_acc*100:.1f}%\")"
      ],
      "execution_count": 51,
      "outputs": [
        {
          "output_type": "stream",
          "text": [
            "--Get data--\n",
            "--Process data--\n",
            "60000\n",
            "--Make model--\n",
            "--Fit model--\n",
            "Train on 60000 samples\n",
            "Epoch 1/15\n",
            "60000/60000 - 11s - loss: 0.5773 - accuracy: 0.8295\n",
            "Epoch 2/15\n",
            "60000/60000 - 12s - loss: 0.4343 - accuracy: 0.8686\n",
            "Epoch 3/15\n",
            "60000/60000 - 11s - loss: 0.3744 - accuracy: 0.8861\n",
            "Epoch 4/15\n",
            "60000/60000 - 11s - loss: 0.3327 - accuracy: 0.8976\n",
            "Epoch 5/15\n",
            "60000/60000 - 11s - loss: 0.2956 - accuracy: 0.9075\n",
            "Epoch 6/15\n",
            "60000/60000 - 11s - loss: 0.2611 - accuracy: 0.9186\n",
            "Epoch 7/15\n",
            "60000/60000 - 11s - loss: 0.2342 - accuracy: 0.9259\n",
            "Epoch 8/15\n",
            "60000/60000 - 10s - loss: 0.2084 - accuracy: 0.9339\n",
            "Epoch 9/15\n",
            "60000/60000 - 11s - loss: 0.1843 - accuracy: 0.9423\n",
            "Epoch 10/15\n",
            "60000/60000 - 11s - loss: 0.1615 - accuracy: 0.9503\n",
            "Epoch 11/15\n",
            "60000/60000 - 11s - loss: 0.1403 - accuracy: 0.9572\n",
            "Epoch 12/15\n",
            "60000/60000 - 10s - loss: 0.1239 - accuracy: 0.9623\n",
            "Epoch 13/15\n",
            "60000/60000 - 11s - loss: 0.1101 - accuracy: 0.9669\n",
            "Epoch 14/15\n",
            "60000/60000 - 10s - loss: 0.1002 - accuracy: 0.9698\n",
            "Epoch 15/15\n",
            "60000/60000 - 11s - loss: 0.0878 - accuracy: 0.9742\n",
            "--Evaluate model--\n",
            "10000/1 - 1s - loss: 0.1384 - accuracy: 0.9388\n",
            "Model Loss:    0.28\n",
            "Model Accuray: 93.9%\n"
          ],
          "name": "stdout"
        }
      ]
    },
    {
      "cell_type": "code",
      "metadata": {
        "id": "FqOYMbbzEwUt",
        "colab_type": "code",
        "colab": {}
      },
      "source": [
        "#Save Model to notMNIST.h5"
      ],
      "execution_count": 0,
      "outputs": []
    },
    {
      "cell_type": "code",
      "metadata": {
        "id": "03ZLaLRVEweP",
        "colab_type": "code",
        "colab": {}
      },
      "source": [
        "#from google.colab import files\n",
        "#files.download('notMNIST.h5')"
      ],
      "execution_count": 0,
      "outputs": []
    }
  ]
}