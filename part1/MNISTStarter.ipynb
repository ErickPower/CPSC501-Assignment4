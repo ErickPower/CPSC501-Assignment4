{
  "nbformat": 4,
  "nbformat_minor": 0,
  "metadata": {
    "colab": {
      "name": "MNISTStarter.ipynb",
      "provenance": [],
      "collapsed_sections": [],
      "include_colab_link": true
    },
    "kernelspec": {
      "name": "python3",
      "display_name": "Python 3"
    },
    "accelerator": "GPU"
  },
  "cells": [
    {
      "cell_type": "markdown",
      "metadata": {
        "id": "view-in-github",
        "colab_type": "text"
      },
      "source": [
        "<a href=\"https://colab.research.google.com/github/ErickPower/CPSC501-Assignment4/blob/master/part1/MNISTStarter.ipynb\" target=\"_parent\"><img src=\"https://colab.research.google.com/assets/colab-badge.svg\" alt=\"Open In Colab\"/></a>"
      ]
    },
    {
      "cell_type": "code",
      "metadata": {
        "id": "m4eZDEIAx0aH",
        "colab_type": "code",
        "outputId": "6d69f6a2-47fa-4e71-921d-e305d019d3d9",
        "colab": {
          "base_uri": "https://localhost:8080/",
          "height": 34
        }
      },
      "source": [
        "try:\n",
        "  # %tensorflow_version only exists in Colab.\n",
        "  %tensorflow_version 2.x\n",
        "except Exception:\n",
        "  pass"
      ],
      "execution_count": 1,
      "outputs": [
        {
          "output_type": "stream",
          "text": [
            "TensorFlow 2.x selected.\n"
          ],
          "name": "stdout"
        }
      ]
    },
    {
      "cell_type": "code",
      "metadata": {
        "id": "ITCcIDcJx02Q",
        "colab_type": "code",
        "outputId": "5bacfa32-668e-4d73-af16-eabf1e34df62",
        "colab": {
          "base_uri": "https://localhost:8080/",
          "height": 697
        }
      },
      "source": [
        "import tensorflow as tf\n",
        "\n",
        "print(\"--Get data--\")\n",
        "mnist = tf.keras.datasets.mnist\n",
        "(x_train, y_train), (x_test, y_test) = mnist.load_data()\n",
        "\n",
        "print(\"--Process data--\")\n",
        "x_train, x_test = x_train / 255.0, x_test / 255.0\n",
        "\n",
        "\n",
        "print(\"--Make model--\")\n",
        "model = tf.keras.models.Sequential([\n",
        "  tf.keras.layers.Flatten(input_shape=(28, 28)),\n",
        "  tf.keras.layers.Dense(500, activation='relu'),\n",
        "  tf.keras.layers.Dense(300, activation = 'relu'),\n",
        "  tf.keras.layers.Dense(10, activation='softmax')\n",
        "])\n",
        "\n",
        "optim = tf.keras.optimizers.SGD(learning_rate=0.01, momentum=0.9)\n",
        "\n",
        "model.compile(optimizer=optim, loss='sparse_categorical_crossentropy', metrics=['accuracy'])\n",
        "\n",
        "print(\"--Fit model--\")\n",
        "history = model.fit(x_train, y_train, epochs=15, verbose=2)\n",
        "\n",
        "print(f\"Train Accuracy: {history.history.get('accuracy')[14]*100:.2f}\")\n",
        "\n",
        "print(\"--Evaluate model--\")\n",
        "model_loss, model_acc = model.evaluate(x_test,  y_test, verbose=2)\n",
        "print(f\"Model Loss:    {model_loss:.2f}\")\n",
        "print(f\"Model Accuray: {model_acc*100:.1f}%\")"
      ],
      "execution_count": 37,
      "outputs": [
        {
          "output_type": "stream",
          "text": [
            "--Get data--\n",
            "--Process data--\n",
            "--Make model--\n",
            "--Fit model--\n",
            "Train on 60000 samples\n",
            "Epoch 1/15\n",
            "60000/60000 - 4s - loss: 0.2525 - accuracy: 0.9250\n",
            "Epoch 2/15\n",
            "60000/60000 - 4s - loss: 0.0982 - accuracy: 0.9704\n",
            "Epoch 3/15\n",
            "60000/60000 - 4s - loss: 0.0649 - accuracy: 0.9798\n",
            "Epoch 4/15\n",
            "60000/60000 - 4s - loss: 0.0462 - accuracy: 0.9858\n",
            "Epoch 5/15\n",
            "60000/60000 - 4s - loss: 0.0330 - accuracy: 0.9901\n",
            "Epoch 6/15\n",
            "60000/60000 - 4s - loss: 0.0233 - accuracy: 0.9933\n",
            "Epoch 7/15\n",
            "60000/60000 - 4s - loss: 0.0177 - accuracy: 0.9950\n",
            "Epoch 8/15\n",
            "60000/60000 - 4s - loss: 0.0117 - accuracy: 0.9970\n",
            "Epoch 9/15\n",
            "60000/60000 - 4s - loss: 0.0087 - accuracy: 0.9979\n",
            "Epoch 10/15\n",
            "60000/60000 - 4s - loss: 0.0052 - accuracy: 0.9992\n",
            "Epoch 11/15\n",
            "60000/60000 - 4s - loss: 0.0039 - accuracy: 0.9993\n",
            "Epoch 12/15\n",
            "60000/60000 - 4s - loss: 0.0024 - accuracy: 0.9998\n",
            "Epoch 13/15\n",
            "60000/60000 - 4s - loss: 0.0016 - accuracy: 0.9999\n",
            "Epoch 14/15\n",
            "60000/60000 - 4s - loss: 0.0011 - accuracy: 1.0000\n",
            "Epoch 15/15\n",
            "60000/60000 - 4s - loss: 8.8247e-04 - accuracy: 1.0000\n",
            "Train Accuracy: 100.00\n",
            "--Evaluate model--\n",
            "10000/1 - 1s - loss: 0.0306 - accuracy: 0.9843\n",
            "Model Loss:    0.06\n",
            "Model Accuray: 98.4%\n"
          ],
          "name": "stdout"
        }
      ]
    },
    {
      "cell_type": "code",
      "metadata": {
        "id": "uqKuNbSJEaWc",
        "colab_type": "code",
        "colab": {}
      },
      "source": [
        "#Save Model to MNIST.h5\n"
      ],
      "execution_count": 0,
      "outputs": []
    },
    {
      "cell_type": "code",
      "metadata": {
        "id": "0Vc4ePZwERJW",
        "colab_type": "code",
        "colab": {}
      },
      "source": [
        "#from google.colab import files\n",
        "#files.download('MNIST.h5')"
      ],
      "execution_count": 0,
      "outputs": []
    },
    {
      "cell_type": "markdown",
      "metadata": {
        "id": "cGHGXsOiQ451",
        "colab_type": "text"
      },
      "source": [
        "**Changes:**\n",
        "\n",
        "\n",
        "1.   Added two hidden Dense layers to model.\n",
        "  * One with 500 units\n",
        "  * One with 300 units\n",
        "  * Both using Rectified Linear Unit activation function\n",
        "\n",
        "2.   Changed output layer activation function to softmax instead of sigmoid\n",
        "\n",
        "3.   Changed the momentum of the optimization alg from 0 to 0.9\n",
        "\n",
        "4.   Changed epoch to 15\n",
        "\n",
        "Loss algorithm is still the same (sparse categorical crossentropy)\n",
        "\n",
        "Run by putting \n",
        "\n"
      ]
    },
    {
      "cell_type": "code",
      "metadata": {
        "id": "ajZBlSl5e52v",
        "colab_type": "code",
        "colab": {}
      },
      "source": [
        ""
      ],
      "execution_count": 0,
      "outputs": []
    }
  ]
}