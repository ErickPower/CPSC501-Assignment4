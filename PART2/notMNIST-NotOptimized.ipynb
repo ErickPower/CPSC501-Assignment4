{
  "nbformat": 4,
  "nbformat_minor": 0,
  "metadata": {
    "colab": {
      "name": "notMNISTStarter.ipynb",
      "provenance": [],
      "collapsed_sections": [],
      "include_colab_link": true
    },
    "kernelspec": {
      "name": "python3",
      "display_name": "Python 3"
    }
  },
  "cells": [
    {
      "cell_type": "markdown",
      "metadata": {
        "id": "view-in-github",
        "colab_type": "text"
      },
      "source": [
        "<a href=\"https://colab.research.google.com/github/ErickPower/CPSC501-Assignment4/blob/master/PART2/notMNIST-NotOptimized.ipynb\" target=\"_parent\"><img src=\"https://colab.research.google.com/assets/colab-badge.svg\" alt=\"Open In Colab\"/></a>"
      ]
    },
    {
      "cell_type": "code",
      "metadata": {
        "id": "EWyi3raC7pnn",
        "colab_type": "code",
        "outputId": "e4ed08c3-9696-43a6-d0f9-29520240453d",
        "colab": {
          "base_uri": "https://localhost:8080/",
          "height": 170
        }
      },
      "source": [
        "!git init\n",
        "!git remote add origin https://github.com/ErickPower/CPSC501-Assignment4.git\n",
        "!git pull origin master"
      ],
      "execution_count": 1,
      "outputs": [
        {
          "output_type": "stream",
          "text": [
            "Initialized empty Git repository in /content/.git/\n",
            "remote: Enumerating objects: 63, done.\u001b[K\n",
            "remote: Counting objects: 100% (63/63), done.\u001b[K\n",
            "remote: Compressing objects: 100% (53/53), done.\u001b[K\n",
            "remote: Total 63 (delta 29), reused 6 (delta 2), pack-reused 0\u001b[K\n",
            "Unpacking objects: 100% (63/63), done.\n",
            "From https://github.com/ErickPower/CPSC501-Assignment4\n",
            " * branch            master     -> FETCH_HEAD\n",
            " * [new branch]      master     -> origin/master\n"
          ],
          "name": "stdout"
        }
      ]
    },
    {
      "cell_type": "code",
      "metadata": {
        "id": "Z1o4PRH6KJuJ",
        "colab_type": "code",
        "outputId": "c76a6943-e4a9-479f-80bb-a5cd35261b56",
        "colab": {
          "base_uri": "https://localhost:8080/",
          "height": 34
        }
      },
      "source": [
        "try:\n",
        "  # %tensorflow_version only exists in Colab.\n",
        "  %tensorflow_version 2.x\n",
        "except Exception:\n",
        "  print(\"Tensorflow already loaded.\")\n",
        "  pass"
      ],
      "execution_count": 2,
      "outputs": [
        {
          "output_type": "stream",
          "text": [
            "TensorFlow 2.x selected.\n"
          ],
          "name": "stdout"
        }
      ]
    },
    {
      "cell_type": "markdown",
      "metadata": {
        "id": "w4ughi_1E4dp",
        "colab_type": "text"
      },
      "source": [
        "Upload notMNIST.npz"
      ]
    },
    {
      "cell_type": "code",
      "metadata": {
        "id": "S4eVDT0IKKbh",
        "colab_type": "code",
        "colab": {}
      },
      "source": [
        "#from google.colab import files\n",
        "#uploaded = files.upload()"
      ],
      "execution_count": 0,
      "outputs": []
    },
    {
      "cell_type": "code",
      "metadata": {
        "id": "UmlX83--KT6M",
        "colab_type": "code",
        "outputId": "ef120c59-e538-4d72-b11f-611fa6410a94",
        "colab": {
          "base_uri": "https://localhost:8080/",
          "height": 1000
        }
      },
      "source": [
        "import tensorflow as tf\n",
        "import numpy as np\n",
        "import matplotlib.pyplot as plt\n",
        "\n",
        "print(\"--Get data--\")\n",
        "with np.load(\"notMNIST.npz\", allow_pickle=True) as f:\n",
        "    x_train, y_train = f['x_train'], f['y_train']\n",
        "    x_test, y_test = f['x_test'], f['y_test']\n",
        "\n",
        "print(\"--Process data--\")\n",
        "print(len(y_train))\n",
        "x_train, x_test = x_train / 255.0, x_test / 255.0\n",
        "\n",
        "#x_train, x_test = x_train.reshape(x_train.shape[0], 28, 28, 1),  x_test.reshape(x_test.shape[0], 28, 28, 1)\n",
        " \n",
        "print(\"--Make model--\")\n",
        "model = tf.keras.models.Sequential([\n",
        "  \n",
        "  tf.keras.layers.Flatten(input_shape=(28, 28)),\n",
        "  #tf.keras.layers.Flatten(),\n",
        "  tf.keras.layers.Dense(600, activation='relu'),\n",
        "  tf.keras.layers.Dense(400, activation='relu'),\n",
        "  tf.keras.layers.Dense(200, activation='relu'),\n",
        "  tf.keras.layers.Dense(10, activation='softmax')\n",
        "])\n",
        "\n",
        "model.summary()\n",
        "\n",
        "optim = tf.keras.optimizers.SGD(learning_rate=0.01, momentum=0.9)\n",
        "\n",
        "model.compile(optimizer=optim, loss='sparse_categorical_crossentropy', metrics=['accuracy'])\n",
        "\n",
        "\n",
        "print(\"--Fit model--\")\n",
        "model.fit(x_train, y_train, epochs=30, verbose=2)\n",
        "\n",
        "print(\"--Evaluate model--\")\n",
        "model_loss, model_acc = model.evaluate(x_test,  y_test, verbose=2) \n",
        "print(f\"Model Loss:    {model_loss:.2f}\")\n",
        "print(f\"Model Accuray: {model_acc*100:.1f}%\")"
      ],
      "execution_count": 11,
      "outputs": [
        {
          "output_type": "stream",
          "text": [
            "--Get data--\n",
            "--Process data--\n",
            "60000\n",
            "--Make model--\n",
            "Model: \"sequential_5\"\n",
            "_________________________________________________________________\n",
            "Layer (type)                 Output Shape              Param #   \n",
            "=================================================================\n",
            "flatten_5 (Flatten)          (None, 784)               0         \n",
            "_________________________________________________________________\n",
            "dense_20 (Dense)             (None, 600)               471000    \n",
            "_________________________________________________________________\n",
            "dense_21 (Dense)             (None, 400)               240400    \n",
            "_________________________________________________________________\n",
            "dense_22 (Dense)             (None, 200)               80200     \n",
            "_________________________________________________________________\n",
            "dense_23 (Dense)             (None, 10)                2010      \n",
            "=================================================================\n",
            "Total params: 793,610\n",
            "Trainable params: 793,610\n",
            "Non-trainable params: 0\n",
            "_________________________________________________________________\n",
            "--Fit model--\n",
            "Train on 60000 samples\n",
            "Epoch 1/30\n",
            "60000/60000 - 15s - loss: 0.5739 - accuracy: 0.8288\n",
            "Epoch 2/30\n",
            "60000/60000 - 14s - loss: 0.4340 - accuracy: 0.8664\n",
            "Epoch 3/30\n",
            "60000/60000 - 14s - loss: 0.3743 - accuracy: 0.8841\n",
            "Epoch 4/30\n",
            "60000/60000 - 15s - loss: 0.3306 - accuracy: 0.8962\n",
            "Epoch 5/30\n",
            "60000/60000 - 14s - loss: 0.2943 - accuracy: 0.9072\n",
            "Epoch 6/30\n",
            "60000/60000 - 15s - loss: 0.2621 - accuracy: 0.9160\n",
            "Epoch 7/30\n",
            "60000/60000 - 14s - loss: 0.2345 - accuracy: 0.9254\n",
            "Epoch 8/30\n",
            "60000/60000 - 14s - loss: 0.2111 - accuracy: 0.9323\n",
            "Epoch 9/30\n",
            "60000/60000 - 14s - loss: 0.1866 - accuracy: 0.9399\n",
            "Epoch 10/30\n",
            "60000/60000 - 14s - loss: 0.1692 - accuracy: 0.9458\n",
            "Epoch 11/30\n",
            "60000/60000 - 14s - loss: 0.1542 - accuracy: 0.9502\n",
            "Epoch 12/30\n",
            "60000/60000 - 14s - loss: 0.1355 - accuracy: 0.9569\n",
            "Epoch 13/30\n",
            "60000/60000 - 14s - loss: 0.1261 - accuracy: 0.9594\n",
            "Epoch 14/30\n",
            "60000/60000 - 15s - loss: 0.1142 - accuracy: 0.9648\n",
            "Epoch 15/30\n",
            "60000/60000 - 15s - loss: 0.1063 - accuracy: 0.9669\n",
            "Epoch 16/30\n",
            "60000/60000 - 15s - loss: 0.0911 - accuracy: 0.9716\n",
            "Epoch 17/30\n",
            "60000/60000 - 15s - loss: 0.0832 - accuracy: 0.9742\n",
            "Epoch 18/30\n",
            "60000/60000 - 15s - loss: 0.0761 - accuracy: 0.9767\n",
            "Epoch 19/30\n",
            "60000/60000 - 15s - loss: 0.0743 - accuracy: 0.9768\n",
            "Epoch 20/30\n",
            "60000/60000 - 15s - loss: 0.0657 - accuracy: 0.9802\n",
            "Epoch 21/30\n",
            "60000/60000 - 15s - loss: 0.0634 - accuracy: 0.9816\n",
            "Epoch 22/30\n",
            "60000/60000 - 15s - loss: 0.0554 - accuracy: 0.9831\n",
            "Epoch 23/30\n",
            "60000/60000 - 15s - loss: 0.0599 - accuracy: 0.9820\n",
            "Epoch 24/30\n",
            "60000/60000 - 15s - loss: 0.0569 - accuracy: 0.9821\n",
            "Epoch 25/30\n",
            "60000/60000 - 15s - loss: 0.0572 - accuracy: 0.9825\n",
            "Epoch 26/30\n",
            "60000/60000 - 15s - loss: 0.0459 - accuracy: 0.9863\n",
            "Epoch 27/30\n",
            "60000/60000 - 15s - loss: 0.0485 - accuracy: 0.9852\n",
            "Epoch 28/30\n",
            "60000/60000 - 15s - loss: 0.0416 - accuracy: 0.9877\n",
            "Epoch 29/30\n",
            "60000/60000 - 15s - loss: 0.0478 - accuracy: 0.9857\n",
            "Epoch 30/30\n",
            "60000/60000 - 15s - loss: 0.0400 - accuracy: 0.9875\n",
            "--Evaluate model--\n",
            "10000/1 - 1s - loss: 0.2077 - accuracy: 0.9442\n",
            "Model Loss:    0.42\n",
            "Model Accuray: 94.4%\n"
          ],
          "name": "stdout"
        }
      ]
    },
    {
      "cell_type": "code",
      "metadata": {
        "id": "FqOYMbbzEwUt",
        "colab_type": "code",
        "colab": {}
      },
      "source": [
        "#Save Model to notMNIST.h5\n",
        "model.save(\"notMNIST.h5\")"
      ],
      "execution_count": 0,
      "outputs": []
    },
    {
      "cell_type": "code",
      "metadata": {
        "id": "hrveJ_SGtKlx",
        "colab_type": "code",
        "colab": {
          "base_uri": "https://localhost:8080/",
          "height": 170
        },
        "outputId": "d81d19a7-e15e-45bf-cbdf-7fa9221a67e0"
      },
      "source": [
        "#push model to github\n"
      ],
      "execution_count": 17,
      "outputs": [
        {
          "output_type": "stream",
          "text": [
            "[master 45c5a68] Adding notMNIST.h5 to github.\n",
            "Counting objects: 5, done.\n",
            "Delta compression using up to 2 threads.\n",
            "Compressing objects: 100% (5/5), done.\n",
            "Writing objects: 100% (5/5), 5.69 MiB | 6.14 MiB/s, done.\n",
            "Total 5 (delta 2), reused 0 (delta 0)\n",
            "remote: Resolving deltas: 100% (2/2), completed with 1 local object.\u001b[K\n",
            "To https://github.com/ErickPower/CPSC501-Assignment4.git\n",
            "   077c44b..45c5a68  master -> master\n"
          ],
          "name": "stdout"
        }
      ]
    },
    {
      "cell_type": "code",
      "metadata": {
        "id": "te6jm77vDfnQ",
        "colab_type": "code",
        "colab": {}
      },
      "source": [
        "def plot_image(i, predictions_array, true_label, img):\n",
        "  predictions_array, true_label, img = predictions_array, true_label[i], img[i]\n",
        "  plt.grid(False)\n",
        "  plt.xticks([])\n",
        "  plt.yticks([])\n",
        "\n",
        "  plt.imshow(img, cmap=plt.cm.binary)\n",
        "\n",
        "  predicted_label = np.argmax(predictions_array)\n",
        "  if predicted_label == true_label:\n",
        "    color = 'blue'\n",
        "  else:\n",
        "    color = 'red'\n",
        "\n",
        "  plt.xlabel(\"{} {:2.0f}% ({})\".format(class_names[predicted_label],\n",
        "                                100*np.max(predictions_array),\n",
        "                                class_names[true_label]),\n",
        "                                color=color)\n",
        "\n",
        "def plot_value_array(i, predictions_array, true_label):\n",
        "  predictions_array, true_label = predictions_array, true_label[i]\n",
        "  plt.grid(False)\n",
        "  plt.xticks(range(10))\n",
        "  plt.yticks([])\n",
        "  thisplot = plt.bar(range(10), predictions_array, color=\"#777777\")\n",
        "  plt.ylim([0, 1])\n",
        "  predicted_label = np.argmax(predictions_array)\n",
        "\n",
        "  thisplot[predicted_label].set_color('red')\n",
        "  thisplot[true_label].set_color('blue')"
      ],
      "execution_count": 0,
      "outputs": []
    },
    {
      "cell_type": "code",
      "metadata": {
        "id": "jAoHfhvoL0o3",
        "colab_type": "code",
        "colab": {}
      },
      "source": [
        "class_names = ['A','B','C','D','E','F','G','H','I','J']"
      ],
      "execution_count": 0,
      "outputs": []
    },
    {
      "cell_type": "code",
      "metadata": {
        "id": "yccjHmKUJItY",
        "colab_type": "code",
        "colab": {}
      },
      "source": [
        "predictions = model.predict(x_test)\n",
        "num_rows = 6\n",
        "num_cols = 3\n",
        "num_images = num_rows*num_cols\n",
        "plt.figure(figsize=(2*2*num_cols, 2*num_rows))\n",
        "for i in range(num_images):\n",
        "  plt.subplot(num_rows, 2*num_cols, 2*i+1)\n",
        "  plot_image(i+num_images, predictions[i+num_images], y_test, x_test)\n",
        "  plt.subplot(num_rows, 2*num_cols, 2*i+2)\n",
        "  plot_value_array(i+num_images, predictions[i+num_images], y_test)\n",
        "plt.tight_layout()\n",
        "plt.show()"
      ],
      "execution_count": 0,
      "outputs": []
    },
    {
      "cell_type": "code",
      "metadata": {
        "id": "03ZLaLRVEweP",
        "colab_type": "code",
        "colab": {}
      },
      "source": [
        "#from google.colab import files\n",
        "#files.download('notMNIST.h5')"
      ],
      "execution_count": 0,
      "outputs": []
    },
    {
      "cell_type": "markdown",
      "metadata": {
        "id": "Kalj2F_IdUPu",
        "colab_type": "text"
      },
      "source": [
        "My original model consists of 5 layers; 1 flatten layer (to reshape data from 28x28 to 1x784), and 4 Dense layers. The dense layers are of decreasing size outputs (600, 400, 200, 10), and the first 3 use the Rectified Linear Unit activation function.\n",
        "\n",
        "The fourth dense layer uses softmax activation function, as this is best for outputting a prediction between 0 and 1 for each possible result. Since the output size of this layer is 10, it is producing a prediction for the input (image) to be classified into each possible category (A-J, 10 categories).\n",
        "\n",
        "I used 30 epochs as this got to an acceptable level of accuracy (98% train, 94% test)\n",
        "\n",
        "After drawing the letter H (in imageH.png), I tested the model on this image. It incorrectly labelled it as D.\n",
        "\n",
        "#Changes:\n",
        "\n"
      ]
    }
  ]
}